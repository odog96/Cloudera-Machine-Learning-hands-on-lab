{
 "cells": [
  {
   "cell_type": "code",
   "execution_count": null,
   "id": "1980aaf2-a2eb-408b-8f37-c2dc7be08cb2",
   "metadata": {},
   "outputs": [],
   "source": [
    "from collections import ChainMap\n",
    "import cdsw, numpy\n",
    "from churnexplainer import ExplainedModel\n",
    "\n",
    "import pandas as pd\n",
    "\n"
   ]
  },
  {
   "cell_type": "code",
   "execution_count": null,
   "id": "6cb6432c-6632-4251-8e86-082bfec75ee4",
   "metadata": {},
   "outputs": [],
   "source": [
    "# Load the model saved earlier.\n",
    "em = ExplainedModel.load(model_name=\"telco_linear\")"
   ]
  },
  {
   "cell_type": "code",
   "execution_count": null,
   "id": "28168a1a-5006-4e19-abe9-d67824cd94f6",
   "metadata": {},
   "outputs": [],
   "source": []
  },
  {
   "cell_type": "code",
   "execution_count": null,
   "id": "99ded1a8-6923-4627-b72c-e828c991213e",
   "metadata": {},
   "outputs": [],
   "source": [
    "test_input = {\"columns\": [\"gender\", \"SeniorCitizen\", \"Partner\", \"Dependents\", \"tenure\",\\\n",
    "\"PhoneService\", \"MultipleLines\", \"InternetService\", \"OnlineSecurity\", \"OnlineBackup\", \\\n",
    "\"DeviceProtection\", \"TechSupport\", \"StreamingTV\", \"StreamingMovies\", \"Contract\", \\\n",
    "\"PaperlessBilling\", \"PaymentMethod\", \"MonthlyCharges\", \"TotalCharges\"], \"data\": \\\n",
    "  [\"Male\", \"No\", \"Yes\", \"No\", 14, \"Yes\", \"No\", \"DSL\", \"No\", \"No\", \"No\", \"Yes\", \"No\", \"No\", \\\n",
    "   \"Month-to-month\", \"No\", \"Bank transfer (automatic)\", 48.8, 664.4]}"
   ]
  }
 ],
 "metadata": {
  "kernelspec": {
   "display_name": "Python 3 (ipykernel)",
   "language": "python",
   "name": "python3"
  },
  "language_info": {
   "codemirror_mode": {
    "name": "ipython",
    "version": 3
   },
   "file_extension": ".py",
   "mimetype": "text/x-python",
   "name": "python",
   "nbconvert_exporter": "python",
   "pygments_lexer": "ipython3",
   "version": "3.7.16"
  }
 },
 "nbformat": 4,
 "nbformat_minor": 5
}
